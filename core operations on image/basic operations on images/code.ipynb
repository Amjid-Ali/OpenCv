{
 "cells": [
  {
   "cell_type": "markdown",
   "metadata": {},
   "source": [
    "# basic operations on images"
   ]
  },
  {
   "cell_type": "code",
   "execution_count": 3,
   "metadata": {},
   "outputs": [],
   "source": [
    "# acces pixels values and modify them\n",
    "import numpy as np\n",
    "import cv2"
   ]
  },
  {
   "cell_type": "code",
   "execution_count": 16,
   "metadata": {},
   "outputs": [
    {
     "data": {
      "text/plain": [
       "array([57, 63, 68], dtype=uint8)"
      ]
     },
     "execution_count": 16,
     "metadata": {},
     "output_type": "execute_result"
    }
   ],
   "source": [
    "img=cv2.imread('./messi.jpg')\n",
    "img[100,100,:]    # b,g,r features maps"
   ]
  },
  {
   "cell_type": "code",
   "execution_count": 22,
   "metadata": {},
   "outputs": [],
   "source": [
    "# px=img[100,100,:]\n",
    "# print(\"%d blue %d green %d red\"%(px[0],px[1],px[2]))"
   ]
  },
  {
   "cell_type": "code",
   "execution_count": 24,
   "metadata": {},
   "outputs": [],
   "source": [
    "# lets modify the pixel\n",
    "# img[100,100,:]=[255,255,255]"
   ]
  },
  {
   "cell_type": "code",
   "execution_count": 31,
   "metadata": {},
   "outputs": [
    {
     "name": "stdout",
     "output_type": "stream",
     "text": [
      "before...\n",
      "255 blue 255 green 255 red\n",
      "after\n",
      "0 blue 0 green 0 red\n"
     ]
    }
   ],
   "source": [
    "# modify image pixels with numpy is better option\n",
    "print(\"before...\")\n",
    "print(\"%d blue %d green %d red\"%(img.item(100,100,0),img.item(100,100,1),img.item(100,100,2)))\n",
    "img.itemset((100,100,0),0)\n",
    "img.itemset((100,100,1),0)\n",
    "img.itemset((100,100,2),0)\n",
    "print('after')\n",
    "print(\"%d blue %d green %d red\"%(img.item(100,100,0),img.item(100,100,1),img.item(100,100,2)))"
   ]
  },
  {
   "cell_type": "code",
   "execution_count": 46,
   "metadata": {},
   "outputs": [
    {
     "data": {
      "text/plain": [
       "378000"
      ]
     },
     "execution_count": 46,
     "metadata": {},
     "output_type": "execute_result"
    }
   ],
   "source": [
    "# accesing the mimage properties\n",
    "# img.shape\n",
    "\n",
    "#total pixels\n",
    "# img.size\n",
    "\n",
    "# type\n",
    "# img.dtype\n",
    "\n",
    "# type(img)\n",
    "\n",
    "# img.max()\n",
    "\n",
    "# img.min()\n",
    "\n",
    "img.size"
   ]
  },
  {
   "cell_type": "code",
   "execution_count": 59,
   "metadata": {},
   "outputs": [
    {
     "data": {
      "text/plain": [
       "(280, 450, 3)"
      ]
     },
     "execution_count": 59,
     "metadata": {},
     "output_type": "execute_result"
    }
   ],
   "source": [
    "# image ROI\n",
    "img.shape"
   ]
  },
  {
   "cell_type": "code",
   "execution_count": 63,
   "metadata": {},
   "outputs": [
    {
     "data": {
      "text/plain": [
       "(100, 100, 3)"
      ]
     },
     "execution_count": 63,
     "metadata": {},
     "output_type": "execute_result"
    }
   ],
   "source": [
    "ball=img[150:250, 150:250]"
   ]
  },
  {
   "cell_type": "code",
   "execution_count": 64,
   "metadata": {},
   "outputs": [],
   "source": [
    "cv2.imshow(\"roi\", ball)\n",
    "cv2.waitKey(0)\n",
    "cv2.destroyAllWindows()"
   ]
  },
  {
   "cell_type": "code",
   "execution_count": 65,
   "metadata": {},
   "outputs": [],
   "source": [
    "img[50:150, 50:150]=ball"
   ]
  },
  {
   "cell_type": "code",
   "execution_count": 66,
   "metadata": {},
   "outputs": [],
   "source": [
    "cv2.imshow(\"roi\", img)\n",
    "cv2.waitKey(0)\n",
    "cv2.destroyAllWindows()"
   ]
  },
  {
   "cell_type": "markdown",
   "metadata": {},
   "source": [
    "# splitting and merging channels\n"
   ]
  },
  {
   "cell_type": "code",
   "execution_count": 72,
   "metadata": {},
   "outputs": [],
   "source": [
    "b,g,r=cv2.split(img)"
   ]
  },
  {
   "cell_type": "code",
   "execution_count": 79,
   "metadata": {},
   "outputs": [
    {
     "data": {
      "text/plain": [
       "(280, 450)"
      ]
     },
     "execution_count": 79,
     "metadata": {},
     "output_type": "execute_result"
    }
   ],
   "source": [
    "r.shape    # this is red feature map\n",
    "\n",
    "b.shape    # this is blue feature map\n",
    "\n",
    "g.shape    # this is green feature map\n"
   ]
  },
  {
   "cell_type": "code",
   "execution_count": 84,
   "metadata": {},
   "outputs": [],
   "source": [
    "# merge opeation\n",
    "# cv2.merge((b,g,r))\n",
    "\n",
    "\n",
    "# we can change the features maps as well bgr-> rgb\n",
    "rgb_image=cv2.merge((r,g,b))\n",
    "brg_image=cv2.merge((b,g,r))"
   ]
  },
  {
   "cell_type": "code",
   "execution_count": 85,
   "metadata": {},
   "outputs": [],
   "source": [
    "cv2.imshow(\"rgb image\", rgb_image)\n",
    "cv2.imshow(\"bgr image\",brg_image)\n",
    "cv2.waitKey(0)\n",
    "cv2.destroyAllWindows()"
   ]
  },
  {
   "cell_type": "code",
   "execution_count": 86,
   "metadata": {},
   "outputs": [],
   "source": [
    "# borders of image manipulation"
   ]
  },
  {
   "cell_type": "code",
   "execution_count": 88,
   "metadata": {},
   "outputs": [],
   "source": [
    "import cv2\n",
    "import numpy as np\n"
   ]
  },
  {
   "cell_type": "code",
   "execution_count": 89,
   "metadata": {},
   "outputs": [],
   "source": [
    "img=cv2.imread(\"./opencv-logo.png\")\n",
    "replicate_border=cv2.copyMakeBorder(img,10,10,10,10, cv2.BORDER_REPLICATE)\n",
    "reflect_border=cv2.copyMakeBorder(img,10,10,10,10, cv2.BORDER_REFLECT)\n",
    "reflect1_border=cv2.copyMakeBorder(img,10,10,10,10, cv2.BORDER_REFLECT_101)\n",
    "wrap=cv2.copyMakeBorder(img,10,10,10,10, cv2.BORDER_WRAP)\n",
    "constant=cv2.copyMakeBorder(img,10,10,10,10, cv2.BORDER_CONSTANT,value=[255,0,0])"
   ]
  },
  {
   "cell_type": "code",
   "execution_count": 91,
   "metadata": {},
   "outputs": [],
   "source": [
    "cv2.imshow(\"replacte\", replicate_border)\n",
    "cv2.imshow(\"reflect\",reflect_border)\n",
    "cv2.imshow(\"reflect 1\",reflect1_border)\n",
    "cv2.imshow(\"wrap img\",wrap)\n",
    "cv2.imshow(\"constant image\",constant)\n",
    "cv2.waitKey(0)\n",
    "cv2.destroyAllWindows()"
   ]
  },
  {
   "cell_type": "code",
   "execution_count": null,
   "metadata": {},
   "outputs": [],
   "source": []
  }
 ],
 "metadata": {
  "kernelspec": {
   "display_name": "Python 3",
   "language": "python",
   "name": "python3"
  },
  "language_info": {
   "codemirror_mode": {
    "name": "ipython",
    "version": 3
   },
   "file_extension": ".py",
   "mimetype": "text/x-python",
   "name": "python",
   "nbconvert_exporter": "python",
   "pygments_lexer": "ipython3",
   "version": "3.8.5"
  }
 },
 "nbformat": 4,
 "nbformat_minor": 4
}
