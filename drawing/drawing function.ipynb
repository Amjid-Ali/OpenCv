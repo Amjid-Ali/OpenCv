{
 "cells": [
  {
   "cell_type": "code",
   "execution_count": 1,
   "metadata": {},
   "outputs": [],
   "source": [
    "import cv2\n",
    "import numpy as np"
   ]
  },
  {
   "cell_type": "code",
   "execution_count": 33,
   "metadata": {},
   "outputs": [],
   "source": [
    "img=np.zeros((512,512,3), np.uint8)\n",
    "# line=cv2.line(img, (0,0), (512,512), (255,255,0),5)"
   ]
  },
  {
   "cell_type": "code",
   "execution_count": 36,
   "metadata": {},
   "outputs": [],
   "source": [
    "# rectangle\n",
    "rect=cv2.rectangle(img, (447,63),(510,128), (255,255,0),3)\n",
    "# circle\n",
    "# circle=cv2.circle(img, (447,63),63,(0,0,255),-1)\n",
    "# text\n",
    "# font=cv2.FONT_HERSHEY_SIMPLEX\n",
    "# text=cv2.putText(img,\"Opencv\", (10,500),font,4,(255,255,255),2,cv2.LINE_AA)\n",
    "\n",
    "# drawing ellipse\n",
    "# ellipse=cv2.ellipse(img, (256,256),(100,50),0,0,180,255,-1)\n",
    "\n",
    "#polygon\n",
    "# pts=np.array([[10,5],[20,30],[70,20],[50,10]],np.int32)\n",
    "# pts=pts.reshape((-1,1,2))\n",
    "# poly=cv2.polylines(img,[pts],True, (0,255,255))"
   ]
  },
  {
   "cell_type": "code",
   "execution_count": 37,
   "metadata": {},
   "outputs": [],
   "source": [
    "cv2.imshow(\"img\",rect)\n",
    "cv2.waitKey(0)\n",
    "cv2.destroyAllWindows()"
   ]
  },
  {
   "cell_type": "code",
   "execution_count": null,
   "metadata": {},
   "outputs": [],
   "source": []
  }
 ],
 "metadata": {
  "kernelspec": {
   "display_name": "Python 3",
   "language": "python",
   "name": "python3"
  },
  "language_info": {
   "codemirror_mode": {
    "name": "ipython",
    "version": 3
   },
   "file_extension": ".py",
   "mimetype": "text/x-python",
   "name": "python",
   "nbconvert_exporter": "python",
   "pygments_lexer": "ipython3",
   "version": "3.8.5"
  }
 },
 "nbformat": 4,
 "nbformat_minor": 4
}
