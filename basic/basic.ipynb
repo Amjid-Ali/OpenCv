{
 "cells": [
  {
   "cell_type": "code",
   "execution_count": 1,
   "metadata": {},
   "outputs": [],
   "source": [
    "import cv2\n",
    "import sys"
   ]
  },
  {
   "cell_type": "code",
   "execution_count": null,
   "metadata": {},
   "outputs": [],
   "source": [
    "image=cv2.imread(cv2.samples.findFile(\"./44856031_0d82c2c7d1.jpg\"))\n",
    "\n",
    "if image is None:\n",
    "    sys.exit(\"couldn't load image\")\n",
    "\n",
    "cv2.imshow(\"display_image\",image)\n",
    "k=cv2.waitKey(0)\n",
    "if k==ord(\"s\"):\n",
    "    cv2.imwrite(\"image_saved.jpg\",image)\n",
    "cv2.destroyAllWindows()"
   ]
  },
  {
   "cell_type": "code",
   "execution_count": null,
   "metadata": {},
   "outputs": [],
   "source": [
    "image=cv2.imread(\"./44856031_0d82c2c7d1.jpg\")\n",
    "\n",
    "if image is None:\n",
    "    sys.exit(\"couldn't load image\")\n",
    "\n",
    "cv2.imshow(\"display_image\",image)\n",
    "k=cv2.waitKey(0)\n",
    "if k==ord(\"s\"):\n",
    "    cv2.imwrite(\"image_saved.jpg\",image)\n",
    "cv2.destroyAllWindows()"
   ]
  },
  {
   "cell_type": "markdown",
   "metadata": {},
   "source": [
    "# capture video from camera"
   ]
  },
  {
   "cell_type": "code",
   "execution_count": null,
   "metadata": {},
   "outputs": [],
   "source": [
    "import numpy as np\n",
    "import cv2 "
   ]
  },
  {
   "cell_type": "code",
   "execution_count": null,
   "metadata": {},
   "outputs": [],
   "source": [
    "cap=cv2.VideoCapture(0)"
   ]
  },
  {
   "cell_type": "code",
   "execution_count": null,
   "metadata": {},
   "outputs": [],
   "source": [
    "if not cap.isOpened():\n",
    "    print(\"cannot open the camera or no camera\")\n",
    "#     exit()"
   ]
  },
  {
   "cell_type": "code",
   "execution_count": null,
   "metadata": {},
   "outputs": [],
   "source": [
    "while True:\n",
    "    ret, frame= cap.read()\n",
    "    \n",
    "    if not ret:\n",
    "        print(\"can't receive freame (stream end?). Exiting\")\n",
    "        break\n",
    "    gray=cv2.cvtColor(frame, cv2.COLOR_BGR2GRAY)\n",
    "    cv2.imshow(\"frame\",gray)\n",
    "    if cv2.waitKey(1) == ord(\"q\"):\n",
    "        break\n",
    "cap.release()\n",
    "cv2.destroyAllWindows()\n",
    "\n",
    "cap.get(cv2.CAP_PROP_FRAME_WIDTH)\n",
    "cap.get(cv2.CAP_PROP_FRAME_HEIGHT)\n",
    "# or use set function \n",
    "cap.set(cv2.CAP_PROP_FRAME_WIDTH, 320)"
   ]
  },
  {
   "cell_type": "markdown",
   "metadata": {},
   "source": [
    "# playing video from file"
   ]
  },
  {
   "cell_type": "code",
   "execution_count": null,
   "metadata": {},
   "outputs": [],
   "source": [
    "import cv2\n",
    "import numpy as np"
   ]
  },
  {
   "cell_type": "code",
   "execution_count": 2,
   "metadata": {},
   "outputs": [],
   "source": [
    "cap=cv2.VideoCapture(\"./football-video.mp4\")"
   ]
  },
  {
   "cell_type": "code",
   "execution_count": null,
   "metadata": {},
   "outputs": [],
   "source": [
    "cap.set(cv2.CAP_PROP_FRAME_WIDTH, 640)\n",
    "cap.set(cv2.CAP_PROP_FRAME_HEIGHT, 480)\n",
    "cap.set(cv2.CAP_PROP_FPS, 25)\n",
    "while cap.isOpened():\n",
    "    cap.set(cv2.CAP_PROP_FRAME_HEIGHT,200)\n",
    "    ret, frame=cap.read()\n",
    "    if not ret:\n",
    "        print(\"could't receive frame, stream ending\")\n",
    "        break\n",
    "    gray=cv2.cvtColor(frame,cv2.COLOR_BGR2GRAY)\n",
    "    cv2.imshow(\"frame\",gray)\n",
    "    if cv2.waitKey(1) ==ord(\"q\"):\n",
    "        break\n",
    "cap.release()\n",
    "cv2.destroyAllWindows()"
   ]
  },
  {
   "cell_type": "markdown",
   "metadata": {},
   "source": [
    "# saving video"
   ]
  },
  {
   "cell_type": "code",
   "execution_count": 7,
   "metadata": {},
   "outputs": [],
   "source": [
    "cap=cv2.VideoCapture(\"./football-video.mp4\")\n",
    "# fourcc=cv2.VideoWriter_fourcc(*'XVID')\n",
    "# fourcc = cv2.VideoWriter_fourcc(*'mp4v')\n",
    "# fourcc = cv2.VideoWriter_fourcc('M','J','P','G')\n",
    "# fourcc = cv2.VideoWriter_fourcc(*'DIVX')\n",
    "# out=cv2.VideoWriter(\"saved_video.avi\", fourcc, 20.0, (720,1280))\n",
    "# fourcc = cv2.VideoWriter_fourcc(*'XVID')\n",
    "# out = cv2.VideoWriter('output.avi',fourcc, 20.0, (int(cap.get(3)), int(cap.get(4))),True)\n",
    "# while cap.isOpened():\n",
    "#     cap.set(cv2.CAP_PROP_FRAME_HEIGHT,200)\n",
    "#     ret, frame=cap.read()\n",
    "#     if not ret:\n",
    "#         print(\"could't receive frame, stream ending\")\n",
    "#         break\n",
    "#     gray=cv2.cvtColor(frame,cv2.COLOR_BGR2GRAY)\n",
    "#     cv2.imshow(\"frame\",gray)\n",
    "#     if cv2.waitKey(1) ==ord(\"q\"):\n",
    "#         break\n",
    "# cap.release()\n",
    "# cv2.destroyAllWindows()"
   ]
  },
  {
   "cell_type": "code",
   "execution_count": 12,
   "metadata": {},
   "outputs": [
    {
     "name": "stdout",
     "output_type": "stream",
     "text": [
      "couldn't load\n"
     ]
    }
   ],
   "source": [
    "import numpy as np\n",
    "import cv2\n",
    "# cap = cv2.VideoCapture(0)\n",
    "cap=cv2.VideoCapture(\"./football-video.mp4\")\n",
    "width = int(cap.get(cv2.CAP_PROP_FRAME_WIDTH))\n",
    "height = int(cap.get(cv2.CAP_PROP_FRAME_HEIGHT))\n",
    "# fourcc = cv2.VideoWriter_fourcc(*'XVID')\n",
    "# fourcc = cv2.VideoWriter_fourcc(*'VIDX')\n",
    "# fourCC = cv2.VideoWriter_fourcc(*'MP4V')\n",
    "# fourcc = cv2.VideoWriter_fourcc('M','J','P','G')\n",
    "# fourcc = cv2.VideoWriter_fourcc(*'DIVX')\n",
    "fourcc=cv2.VideoWriter_fourcc(*'MP4V')\n",
    "out = cv2.VideoWriter('./output.mp4', fourcc, 25.0, (width,height))\n",
    "while(True):\n",
    "    ret, frame = cap.read()\n",
    "    if not ret:\n",
    "        print(\"couldn't load\")\n",
    "        break\n",
    "    out.write(frame)\n",
    "    if cv2.waitKey(1) & 0xFF == ord('a'):\n",
    "        break\n",
    "out.release()\n",
    "cap.release()\n",
    "cv2.destroyAllWindows()"
   ]
  },
  {
   "cell_type": "code",
   "execution_count": 8,
   "metadata": {},
   "outputs": [
    {
     "data": {
      "text/plain": [
       "25.0"
      ]
     },
     "execution_count": 8,
     "metadata": {},
     "output_type": "execute_result"
    }
   ],
   "source": [
    "cap.get(cv2.CAP_PROP_FPS)"
   ]
  },
  {
   "cell_type": "code",
   "execution_count": null,
   "metadata": {},
   "outputs": [],
   "source": []
  },
  {
   "cell_type": "code",
   "execution_count": null,
   "metadata": {},
   "outputs": [],
   "source": []
  }
 ],
 "metadata": {
  "kernelspec": {
   "display_name": "Python 3",
   "language": "python",
   "name": "python3"
  },
  "language_info": {
   "codemirror_mode": {
    "name": "ipython",
    "version": 3
   },
   "file_extension": ".py",
   "mimetype": "text/x-python",
   "name": "python",
   "nbconvert_exporter": "python",
   "pygments_lexer": "ipython3",
   "version": "3.8.5"
  }
 },
 "nbformat": 4,
 "nbformat_minor": 4
}
